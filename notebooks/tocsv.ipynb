{
 "cells": [
  {
   "cell_type": "code",
   "execution_count": 1,
   "metadata": {},
   "outputs": [],
   "source": [
    "import pandas as pd\n",
    "from intertrans.data import load_as_df"
   ]
  },
  {
   "cell_type": "markdown",
   "metadata": {},
   "source": [
    "# This Notebook Pre-Processes the Engine Outputs\n",
    "They can also be loaded directly with load_as_df but it takes time. So we just pre-compute and save the df as CSV"
   ]
  },
  {
   "cell_type": "code",
   "execution_count": 2,
   "metadata": {},
   "outputs": [],
   "source": [
    "# Load the DataFrames\n",
    "df_codellama_13b_transcoder_noverify = load_as_df('../data/raw_outputs/engine/noverify/codellama_13b_transcoder_results_all_depth4.json')\n",
    "df_magicoder_transcoder_noverify = load_as_df('../data/raw_outputs/engine/noverify/magicoder_transcoder_results_all_depth4.json')\n",
    "df_starcoder2_transcoder_noverify = load_as_df('../data/raw_outputs/engine/noverify/starcoder2_transcoder_results_all_depth4.json')\n",
    "\n",
    "# HumanEvalX\n",
    "df_codellama_13b_humanevalx_noverify = load_as_df('../data/raw_outputs/engine/noverify/codellama_13b_humanevalx_results_sub_depth4.json')\n",
    "df_magicoder_humanevalx_noverify = load_as_df('../data/raw_outputs/engine/noverify/magicoder_humanevalx_results_sub_depth4.json')\n",
    "df_starcoder2_humanevalx_noverify = load_as_df('../data/raw_outputs/engine/noverify/starcoder2_humanevalx_results_sub_depth4.json')\n",
    "\n",
    "# CodeNet\n",
    "df_codellama_13b_codenet_noverify = load_as_df('../data/raw_outputs/engine/noverify/codellama_13b_codenet_results_sub_depth4.json')\n",
    "df_magicoder_codenet_noverify = load_as_df('../data/raw_outputs/engine/noverify/magicoder_codenet_results_sub_depth4.json')\n",
    "df_starcoder2_codenet_noverify = load_as_df('../data/raw_outputs/engine/noverify/starcoder2_codenet_results_sub_depth4.json')\n"
   ]
  },
  {
   "cell_type": "code",
   "execution_count": 3,
   "metadata": {},
   "outputs": [],
   "source": [
    "# Save each DataFrame to a CSV file\n",
    "df_codellama_13b_transcoder_noverify.to_csv('../data/raw_outputs/engine/noverify/codellama_13b_transcoder_results_all_depth4.csv', index=False)\n",
    "df_magicoder_transcoder_noverify.to_csv('../data/raw_outputs/engine/noverify/magicoder_transcoder_results_all_depth4.csv', index=False)\n",
    "df_starcoder2_transcoder_noverify.to_csv('../data/raw_outputs/engine/noverify/starcoder2_transcoder_results_all_depth4.csv', index=False)\n",
    "\n",
    "df_codellama_13b_humanevalx_noverify.to_csv('../data/raw_outputs/engine/noverify/codellama_13b_humanevalx_results_sub_depth4.csv', index=False)\n",
    "df_magicoder_humanevalx_noverify.to_csv('../data/raw_outputs/engine/noverify/magicoder_humanevalx_results_sub_depth4.csv', index=False)\n",
    "df_starcoder2_humanevalx_noverify.to_csv('../data/raw_outputs/engine/noverify/starcoder2_humanevalx_results_sub_depth4.csv', index=False)\n",
    "\n",
    "df_codellama_13b_codenet_noverify.to_csv('../data/raw_outputs/engine/noverify/codellama_13b_codenet_results_sub_depth4.csv', index=False)\n",
    "df_magicoder_codenet_noverify.to_csv('../data/raw_outputs/engine/noverify/magicoder_codenet_results_sub_depth4.csv', index=False)\n",
    "df_starcoder2_codenet_noverify.to_csv('../data/raw_outputs/engine/noverify/starcoder2_codenet_results_sub_depth4.csv', index=False)"
   ]
  }
 ],
 "metadata": {
  "kernelspec": {
   "display_name": "Python (expandclient)",
   "language": "python",
   "name": "expandclient"
  },
  "language_info": {
   "codemirror_mode": {
    "name": "ipython",
    "version": 3
   },
   "file_extension": ".py",
   "mimetype": "text/x-python",
   "name": "python",
   "nbconvert_exporter": "python",
   "pygments_lexer": "ipython3",
   "version": "3.9.19"
  }
 },
 "nbformat": 4,
 "nbformat_minor": 2
}

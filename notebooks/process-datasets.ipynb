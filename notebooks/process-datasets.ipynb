{
 "cells": [
  {
   "cell_type": "markdown",
   "id": "a30f080b",
   "metadata": {},
   "source": [
    "# Process the Datasets\n",
    "This notebook takes as input the CodeNet and HumanEval-X datasets and creates the subsets that are used throughout the paper"
   ]
  },
  {
   "cell_type": "code",
   "execution_count": 1,
   "id": "b760b932",
   "metadata": {},
   "outputs": [],
   "source": [
    "import pandas as pd\n",
    "from bs4 import BeautifulSoup\n",
    "import numpy as np\n",
    "import os\n",
    "import re "
   ]
  },
  {
   "cell_type": "code",
   "execution_count": 2,
   "id": "986b0cc8",
   "metadata": {},
   "outputs": [],
   "source": [
    "cwd = os.getcwd()"
   ]
  },
  {
   "cell_type": "code",
   "execution_count": 11,
   "id": "14d9650d",
   "metadata": {},
   "outputs": [],
   "source": [
    "languages_humanevalx = ['Python', 'Java', 'C++', 'Go', 'Rust', 'JavaScript']\n",
    "languages_codenet = ['Python', 'Java', 'C++', 'Go', 'Rust', 'JavaScript']\n",
    "\n",
    "extension_map = {\n",
    "    'Python' : 'py',\n",
    "    'Java' : 'java',\n",
    "    'C++' : 'cpp',\n",
    "    'Go' : 'go',\n",
    "    'JavaScript' : 'js',\n",
    "    'Rust' : 'rs',\n",
    "    'C#' : 'cs'\n",
    "}"
   ]
  },
  {
   "cell_type": "markdown",
   "id": "8eff2b12",
   "metadata": {},
   "source": [
    "## HumanEval-X Subset"
   ]
  },
  {
   "cell_type": "code",
   "execution_count": 12,
   "id": "c87eebf6",
   "metadata": {},
   "outputs": [],
   "source": [
    "rust_df = pd.read_json(str(os.path.join(cwd, \"datasets/codegeex/humaneval-x/rust/data/humaneval_rust.jsonl\")), orient='records', lines=True)\n",
    "rust_df['lang'] = 'Rust'\n",
    "\n",
    "js_df = pd.read_json(os.path.join(cwd, \"datasets/codegeex/humaneval-x/js/data/humaneval_js.jsonl\"), orient='records', lines=True)\n",
    "js_df['lang'] = 'JavaScript'\n",
    "\n",
    "cpp_df = pd.read_json(os.path.join(cwd, \"datasets/codegeex/humaneval-x/cpp/data/humaneval_cpp.jsonl\"), orient='records', lines=True)\n",
    "cpp_df['lang'] = 'C++'\n",
    "\n",
    "go_df = pd.read_json(os.path.join(cwd, \"datasets/codegeex/humaneval-x/go/data/humaneval_go.jsonl\"), orient='records', lines=True)\n",
    "go_df['lang'] = 'Go'\n",
    "\n",
    "java_df = pd.read_json(os.path.join(cwd, \"datasets/codegeex/humaneval-x/java/data/humaneval_java.jsonl\"), orient='records', lines=True)\n",
    "java_df['lang'] = 'Java'\n",
    "\n",
    "pt_df = pd.read_json(os.path.join(cwd, \"datasets/codegeex/humaneval-x/python/data/humaneval_python.jsonl\"), orient='records', lines=True)\n",
    "pt_df['lang'] = 'Python'"
   ]
  },
  {
   "cell_type": "code",
   "execution_count": 13,
   "id": "680981fe",
   "metadata": {},
   "outputs": [],
   "source": [
    "humanevalx = pd.concat([rust_df, js_df, cpp_df, go_df, java_df, pt_df])\n",
    "humanevalx['id'] = humanevalx['task_id'].apply(lambda x : x.split('/')[1])"
   ]
  },
  {
   "cell_type": "code",
   "execution_count": 14,
   "id": "f1e75678",
   "metadata": {},
   "outputs": [
    {
     "data": {
      "text/html": [
       "<div>\n",
       "<style scoped>\n",
       "    .dataframe tbody tr th:only-of-type {\n",
       "        vertical-align: middle;\n",
       "    }\n",
       "\n",
       "    .dataframe tbody tr th {\n",
       "        vertical-align: top;\n",
       "    }\n",
       "\n",
       "    .dataframe thead th {\n",
       "        text-align: right;\n",
       "    }\n",
       "</style>\n",
       "<table border=\"1\" class=\"dataframe\">\n",
       "  <thead>\n",
       "    <tr style=\"text-align: right;\">\n",
       "      <th></th>\n",
       "      <th>task_id</th>\n",
       "      <th>prompt</th>\n",
       "      <th>declaration</th>\n",
       "      <th>canonical_solution</th>\n",
       "      <th>test</th>\n",
       "      <th>example_test</th>\n",
       "      <th>lang</th>\n",
       "      <th>import</th>\n",
       "      <th>docstring</th>\n",
       "      <th>test_setup</th>\n",
       "      <th>text</th>\n",
       "      <th>id</th>\n",
       "    </tr>\n",
       "  </thead>\n",
       "  <tbody>\n",
       "    <tr>\n",
       "      <th>0</th>\n",
       "      <td>Rust/0</td>\n",
       "      <td>\\n/*\\n Check if in given list of numbers, are ...</td>\n",
       "      <td>\\nuse std::{slice::Iter, cmp::{max, self}, mem...</td>\n",
       "      <td>\\n    for i in 0..numbers.len(){\\n        for ...</td>\n",
       "      <td>\\n#[cfg(test)]\\nmod tests {\\n    use super::*;...</td>\n",
       "      <td>None</td>\n",
       "      <td>Rust</td>\n",
       "      <td>NaN</td>\n",
       "      <td>NaN</td>\n",
       "      <td>NaN</td>\n",
       "      <td>NaN</td>\n",
       "      <td>0</td>\n",
       "    </tr>\n",
       "    <tr>\n",
       "      <th>1</th>\n",
       "      <td>Rust/1</td>\n",
       "      <td>\\n/*\\n Input to this function is a string cont...</td>\n",
       "      <td>\\nuse std::{slice::Iter, cmp::{max, self}, mem...</td>\n",
       "      <td>\\n    let mut result:Vec&lt;String&gt; = vec![];\\n  ...</td>\n",
       "      <td>\\n#[cfg(test)]\\nmod tests {\\n    use super::*;...</td>\n",
       "      <td>None</td>\n",
       "      <td>Rust</td>\n",
       "      <td>NaN</td>\n",
       "      <td>NaN</td>\n",
       "      <td>NaN</td>\n",
       "      <td>NaN</td>\n",
       "      <td>1</td>\n",
       "    </tr>\n",
       "    <tr>\n",
       "      <th>2</th>\n",
       "      <td>Rust/2</td>\n",
       "      <td>\\n/*\\n Given a positive floating point number,...</td>\n",
       "      <td>\\nuse std::{slice::Iter, cmp::{max, self}, mem...</td>\n",
       "      <td>\\n    return number % 1.0;\\n}\\n</td>\n",
       "      <td>\\n#[cfg(test)]\\nmod tests {\\n    use super::*;...</td>\n",
       "      <td>None</td>\n",
       "      <td>Rust</td>\n",
       "      <td>NaN</td>\n",
       "      <td>NaN</td>\n",
       "      <td>NaN</td>\n",
       "      <td>NaN</td>\n",
       "      <td>2</td>\n",
       "    </tr>\n",
       "    <tr>\n",
       "      <th>3</th>\n",
       "      <td>Rust/3</td>\n",
       "      <td>\\n/*\\n You're given a list of deposit and with...</td>\n",
       "      <td>\\nuse std::{slice::Iter, cmp::{max, self}, mem...</td>\n",
       "      <td>\\n\\nlet mut balance:i32 = 0;\\nfor op in operat...</td>\n",
       "      <td>\\n#[cfg(test)]\\nmod tests {\\n    use super::*;...</td>\n",
       "      <td>None</td>\n",
       "      <td>Rust</td>\n",
       "      <td>NaN</td>\n",
       "      <td>NaN</td>\n",
       "      <td>NaN</td>\n",
       "      <td>NaN</td>\n",
       "      <td>3</td>\n",
       "    </tr>\n",
       "    <tr>\n",
       "      <th>4</th>\n",
       "      <td>Rust/4</td>\n",
       "      <td>\\n/*\\n For a given list of input numbers, calc...</td>\n",
       "      <td>\\nuse std::{slice::Iter, cmp::{max, self}, mem...</td>\n",
       "      <td>\\n    let mean:f32 = numbers.iter().fold(0.0,|...</td>\n",
       "      <td>\\n#[cfg(test)]\\nmod tests {\\n    use super::*;...</td>\n",
       "      <td>None</td>\n",
       "      <td>Rust</td>\n",
       "      <td>NaN</td>\n",
       "      <td>NaN</td>\n",
       "      <td>NaN</td>\n",
       "      <td>NaN</td>\n",
       "      <td>4</td>\n",
       "    </tr>\n",
       "  </tbody>\n",
       "</table>\n",
       "</div>"
      ],
      "text/plain": [
       "  task_id                                             prompt  \\\n",
       "0  Rust/0  \\n/*\\n Check if in given list of numbers, are ...   \n",
       "1  Rust/1  \\n/*\\n Input to this function is a string cont...   \n",
       "2  Rust/2  \\n/*\\n Given a positive floating point number,...   \n",
       "3  Rust/3  \\n/*\\n You're given a list of deposit and with...   \n",
       "4  Rust/4  \\n/*\\n For a given list of input numbers, calc...   \n",
       "\n",
       "                                         declaration  \\\n",
       "0  \\nuse std::{slice::Iter, cmp::{max, self}, mem...   \n",
       "1  \\nuse std::{slice::Iter, cmp::{max, self}, mem...   \n",
       "2  \\nuse std::{slice::Iter, cmp::{max, self}, mem...   \n",
       "3  \\nuse std::{slice::Iter, cmp::{max, self}, mem...   \n",
       "4  \\nuse std::{slice::Iter, cmp::{max, self}, mem...   \n",
       "\n",
       "                                  canonical_solution  \\\n",
       "0  \\n    for i in 0..numbers.len(){\\n        for ...   \n",
       "1  \\n    let mut result:Vec<String> = vec![];\\n  ...   \n",
       "2                    \\n    return number % 1.0;\\n}\\n   \n",
       "3  \\n\\nlet mut balance:i32 = 0;\\nfor op in operat...   \n",
       "4  \\n    let mean:f32 = numbers.iter().fold(0.0,|...   \n",
       "\n",
       "                                                test example_test  lang  \\\n",
       "0  \\n#[cfg(test)]\\nmod tests {\\n    use super::*;...         None  Rust   \n",
       "1  \\n#[cfg(test)]\\nmod tests {\\n    use super::*;...         None  Rust   \n",
       "2  \\n#[cfg(test)]\\nmod tests {\\n    use super::*;...         None  Rust   \n",
       "3  \\n#[cfg(test)]\\nmod tests {\\n    use super::*;...         None  Rust   \n",
       "4  \\n#[cfg(test)]\\nmod tests {\\n    use super::*;...         None  Rust   \n",
       "\n",
       "  import docstring test_setup text id  \n",
       "0    NaN       NaN        NaN  NaN  0  \n",
       "1    NaN       NaN        NaN  NaN  1  \n",
       "2    NaN       NaN        NaN  NaN  2  \n",
       "3    NaN       NaN        NaN  NaN  3  \n",
       "4    NaN       NaN        NaN  NaN  4  "
      ]
     },
     "execution_count": 14,
     "metadata": {},
     "output_type": "execute_result"
    }
   ],
   "source": [
    "humanevalx.head()"
   ]
  },
  {
   "cell_type": "code",
   "execution_count": 15,
   "id": "c5052748",
   "metadata": {},
   "outputs": [
    {
     "data": {
      "text/plain": [
       "984"
      ]
     },
     "execution_count": 15,
     "metadata": {},
     "output_type": "execute_result"
    }
   ],
   "source": [
    "len(humanevalx.groupby('task_id'))"
   ]
  },
  {
   "cell_type": "code",
   "execution_count": 16,
   "id": "70a77055",
   "metadata": {},
   "outputs": [],
   "source": [
    "translation_pairs = []\n",
    "\n",
    "for task_id, group in humanevalx.groupby('id'):\n",
    "    \n",
    "    for source in languages_humanevalx:\n",
    "        for target in languages_humanevalx:\n",
    "            obj = {}\n",
    "            obj['id'] = task_id\n",
    "            \n",
    "            if source != target:\n",
    "                obj['source_lang'] = source\n",
    "                mask = group['lang'].str.lower() == source.lower()\n",
    "                input_row = group[mask].iloc[0]\n",
    "                obj['input_code'] = input_row['declaration'] + input_row['canonical_solution']\n",
    "                obj['target_lang'] = target\n",
    "                mask = group['lang'].str.lower() == target.lower()\n",
    "                target_row = group[mask].iloc[0]\n",
    "                obj['ground_truth'] = target_row['declaration'] + target_row['canonical_solution']\n",
    "                obj['target_signature'] = target_row['declaration']\n",
    "                obj['test_code'] = target_row['test']\n",
    "                \n",
    "                translation_pairs.append(obj)\n",
    "                \n",
    "translation_df = pd.DataFrame(translation_pairs)"
   ]
  },
  {
   "cell_type": "code",
   "execution_count": 17,
   "id": "9e0df227",
   "metadata": {},
   "outputs": [
    {
     "data": {
      "text/plain": [
       "(4920, 7)"
      ]
     },
     "execution_count": 17,
     "metadata": {},
     "output_type": "execute_result"
    }
   ],
   "source": [
    "translation_df.shape"
   ]
  },
  {
   "cell_type": "code",
   "execution_count": 18,
   "id": "f3ae0f7f",
   "metadata": {},
   "outputs": [
    {
     "data": {
      "text/html": [
       "<div>\n",
       "<style scoped>\n",
       "    .dataframe tbody tr th:only-of-type {\n",
       "        vertical-align: middle;\n",
       "    }\n",
       "\n",
       "    .dataframe tbody tr th {\n",
       "        vertical-align: top;\n",
       "    }\n",
       "\n",
       "    .dataframe thead th {\n",
       "        text-align: right;\n",
       "    }\n",
       "</style>\n",
       "<table border=\"1\" class=\"dataframe\">\n",
       "  <thead>\n",
       "    <tr style=\"text-align: right;\">\n",
       "      <th></th>\n",
       "      <th>id</th>\n",
       "      <th>source_lang</th>\n",
       "      <th>input_code</th>\n",
       "      <th>target_lang</th>\n",
       "      <th>ground_truth</th>\n",
       "      <th>target_signature</th>\n",
       "      <th>test_code</th>\n",
       "    </tr>\n",
       "  </thead>\n",
       "  <tbody>\n",
       "    <tr>\n",
       "      <th>0</th>\n",
       "      <td>0</td>\n",
       "      <td>Python</td>\n",
       "      <td>from typing import List\\n\\n\\ndef has_close_ele...</td>\n",
       "      <td>Java</td>\n",
       "      <td>import java.util.*;\\nimport java.lang.*;\\n\\ncl...</td>\n",
       "      <td>import java.util.*;\\nimport java.lang.*;\\n\\ncl...</td>\n",
       "      <td>public class Main {\\n    public static void ma...</td>\n",
       "    </tr>\n",
       "    <tr>\n",
       "      <th>1</th>\n",
       "      <td>0</td>\n",
       "      <td>Python</td>\n",
       "      <td>from typing import List\\n\\n\\ndef has_close_ele...</td>\n",
       "      <td>C++</td>\n",
       "      <td>#include&lt;stdio.h&gt;\\n#include&lt;vector&gt;\\n#include&lt;...</td>\n",
       "      <td>#include&lt;stdio.h&gt;\\n#include&lt;vector&gt;\\n#include&lt;...</td>\n",
       "      <td>#undef NDEBUG\\n#include&lt;assert.h&gt;\\nint main(){...</td>\n",
       "    </tr>\n",
       "    <tr>\n",
       "      <th>2</th>\n",
       "      <td>0</td>\n",
       "      <td>Python</td>\n",
       "      <td>from typing import List\\n\\n\\ndef has_close_ele...</td>\n",
       "      <td>Go</td>\n",
       "      <td>\\nfunc HasCloseElements(numbers []float64, thr...</td>\n",
       "      <td>\\nfunc HasCloseElements(numbers []float64, thr...</td>\n",
       "      <td>func TestHasCloseElements(t *testing.T) {\\n   ...</td>\n",
       "    </tr>\n",
       "    <tr>\n",
       "      <th>3</th>\n",
       "      <td>0</td>\n",
       "      <td>Python</td>\n",
       "      <td>from typing import List\\n\\n\\ndef has_close_ele...</td>\n",
       "      <td>Rust</td>\n",
       "      <td>\\nuse std::{slice::Iter, cmp::{max, self}, mem...</td>\n",
       "      <td>\\nuse std::{slice::Iter, cmp::{max, self}, mem...</td>\n",
       "      <td>\\n#[cfg(test)]\\nmod tests {\\n    use super::*;...</td>\n",
       "    </tr>\n",
       "    <tr>\n",
       "      <th>4</th>\n",
       "      <td>0</td>\n",
       "      <td>Python</td>\n",
       "      <td>from typing import List\\n\\n\\ndef has_close_ele...</td>\n",
       "      <td>JavaScript</td>\n",
       "      <td>\\nconst hasCloseElements = (numbers, threshold...</td>\n",
       "      <td>\\nconst hasCloseElements = (numbers, threshold...</td>\n",
       "      <td>const testHasCloseElements = () =&gt; {\\n  consol...</td>\n",
       "    </tr>\n",
       "  </tbody>\n",
       "</table>\n",
       "</div>"
      ],
      "text/plain": [
       "  id source_lang                                         input_code  \\\n",
       "0  0      Python  from typing import List\\n\\n\\ndef has_close_ele...   \n",
       "1  0      Python  from typing import List\\n\\n\\ndef has_close_ele...   \n",
       "2  0      Python  from typing import List\\n\\n\\ndef has_close_ele...   \n",
       "3  0      Python  from typing import List\\n\\n\\ndef has_close_ele...   \n",
       "4  0      Python  from typing import List\\n\\n\\ndef has_close_ele...   \n",
       "\n",
       "  target_lang                                       ground_truth  \\\n",
       "0        Java  import java.util.*;\\nimport java.lang.*;\\n\\ncl...   \n",
       "1         C++  #include<stdio.h>\\n#include<vector>\\n#include<...   \n",
       "2          Go  \\nfunc HasCloseElements(numbers []float64, thr...   \n",
       "3        Rust  \\nuse std::{slice::Iter, cmp::{max, self}, mem...   \n",
       "4  JavaScript  \\nconst hasCloseElements = (numbers, threshold...   \n",
       "\n",
       "                                    target_signature  \\\n",
       "0  import java.util.*;\\nimport java.lang.*;\\n\\ncl...   \n",
       "1  #include<stdio.h>\\n#include<vector>\\n#include<...   \n",
       "2  \\nfunc HasCloseElements(numbers []float64, thr...   \n",
       "3  \\nuse std::{slice::Iter, cmp::{max, self}, mem...   \n",
       "4  \\nconst hasCloseElements = (numbers, threshold...   \n",
       "\n",
       "                                           test_code  \n",
       "0  public class Main {\\n    public static void ma...  \n",
       "1  #undef NDEBUG\\n#include<assert.h>\\nint main(){...  \n",
       "2  func TestHasCloseElements(t *testing.T) {\\n   ...  \n",
       "3  \\n#[cfg(test)]\\nmod tests {\\n    use super::*;...  \n",
       "4  const testHasCloseElements = () => {\\n  consol...  "
      ]
     },
     "execution_count": 18,
     "metadata": {},
     "output_type": "execute_result"
    }
   ],
   "source": [
    "translation_df.head()"
   ]
  },
  {
   "cell_type": "markdown",
   "id": "78afba8a",
   "metadata": {},
   "source": [
    "#### 888 is the minimum sample size for a population of 4920 translation pairs with 99.9% CI"
   ]
  },
  {
   "cell_type": "code",
   "execution_count": 19,
   "id": "f149fc96",
   "metadata": {},
   "outputs": [],
   "source": [
    "stratified = translation_df.groupby(['source_lang', 'target_lang'])\n",
    "\n",
    "dfs = []\n",
    "\n",
    "for name, group in stratified:\n",
    "    dfs.append(group.sample(n=35, random_state=1))\n",
    "    \n",
    "humaneval_x_pairs_subset = pd.concat(dfs).reset_index(drop=True)"
   ]
  },
  {
   "cell_type": "code",
   "execution_count": 20,
   "id": "0d453c8a",
   "metadata": {},
   "outputs": [
    {
     "data": {
      "text/plain": [
       "(1050, 7)"
      ]
     },
     "execution_count": 20,
     "metadata": {},
     "output_type": "execute_result"
    }
   ],
   "source": [
    "humaneval_x_pairs_subset.shape"
   ]
  },
  {
   "cell_type": "code",
   "execution_count": 21,
   "id": "942e40d8",
   "metadata": {},
   "outputs": [],
   "source": [
    "humaneval_x_pairs_subset.to_json('./datasets/humanevalx_dataset_subset.jsonl', orient='records', lines=True)"
   ]
  },
  {
   "cell_type": "code",
   "execution_count": 22,
   "id": "2c57a87c",
   "metadata": {},
   "outputs": [],
   "source": [
    "translation_df.to_json('./datasets/humanevalx_dataset_all.jsonl', orient='records', lines=True)"
   ]
  },
  {
   "cell_type": "markdown",
   "id": "a6efb3ab",
   "metadata": {},
   "source": [
    "## CodeNet"
   ]
  },
  {
   "cell_type": "code",
   "execution_count": null,
   "id": "2a0bbab3",
   "metadata": {},
   "outputs": [],
   "source": [
    "problem_descriptions_path = './datasets/Project_CodeNet/problem_descriptions'"
   ]
  },
  {
   "cell_type": "code",
   "execution_count": null,
   "id": "50349fca",
   "metadata": {},
   "outputs": [],
   "source": [
    "import os\n",
    "import random\n",
    "\n",
    "# Set the seed for reproducibility\n",
    "seed = 1\n",
    "random.seed(seed)\n",
    "\n",
    "# Get a list of all files in the directory\n",
    "all_files = [os.path.join(problem_descriptions_path, f) for f in os.listdir(problem_descriptions_path) if os.path.isfile(os.path.join(problem_descriptions_path, f))]\n",
    "\n",
    "print(len(all_files))\n",
    "\n",
    "selected_files = all_files"
   ]
  },
  {
   "cell_type": "code",
   "execution_count": null,
   "id": "55f6100c",
   "metadata": {},
   "outputs": [],
   "source": [
    "# Function to extract the fuzzy tests from HTML content\n",
    "def extract_input_output(file_path):\n",
    "    with open(file_path, 'r', encoding='utf-8') as file:\n",
    "        content = file.read()\n",
    "    soup = BeautifulSoup(content, 'html.parser')\n",
    "    \n",
    "    # Extract input\n",
    "    input_tag = soup.find('h3', string='Sample Input 1')\n",
    "    if input_tag:\n",
    "        input_value = input_tag.find_next('pre').get_text(strip=True)\n",
    "    else:\n",
    "        input_value = None\n",
    "        \n",
    "    input_tag = soup.find('h3', string='Sample Input 2')\n",
    "    if input_tag:\n",
    "        input_value_2 = input_tag.find_next('pre').get_text(strip=True)\n",
    "    else:\n",
    "        input_value_2 = None\n",
    "        \n",
    "    input_tag = soup.find('h3', string='Sample Input 3')\n",
    "    if input_tag:\n",
    "        input_value_3 = input_tag.find_next('pre').get_text(strip=True)\n",
    "    else:\n",
    "        input_value_3 = None\n",
    "    \n",
    "    # Extract output\n",
    "    output_tag = soup.find('h3', string='Sample Output 1')\n",
    "    if output_tag:\n",
    "        output_value = output_tag.find_next('pre').get_text(strip=True)\n",
    "    else:\n",
    "        output_value = None\n",
    "        \n",
    "    # Extract output\n",
    "    output_tag = soup.find('h3', string='Sample Output 2')\n",
    "    if output_tag:\n",
    "        output_value_2 = output_tag.find_next('pre').get_text(strip=True)\n",
    "    else:\n",
    "        output_value_2 = None\n",
    "        \n",
    "    # Extract output\n",
    "    output_tag = soup.find('h3', string='Sample Output 3')\n",
    "    if output_tag:\n",
    "        output_value_3 = output_tag.find_next('pre').get_text(strip=True)\n",
    "    else:\n",
    "        output_value_3 = None\n",
    "    \n",
    "    return input_value, output_value, input_value_2, output_value_2, input_value_3, output_value_3\n",
    "\n",
    "# Dictionary to store the (input, output) pairs\n",
    "input_output_dict = {}\n",
    "\n",
    "# Process each selected file\n",
    "for file_path in selected_files:\n",
    "    input_value, output_value, input_value_2, output_value_2, input_value_3, output_value_3 = extract_input_output(file_path)\n",
    "    filename = filename = os.path.basename(file_path).split('.')[0]\n",
    "    if input_value is not None and input_value_2 is not None and output_value is not None and output_value_2 is not None and input_value_3 is not None and output_value_3 is not None:\n",
    "        input_output_dict[filename] = (input_value, output_value, input_value_2, output_value_2, input_value_3, output_value_3)"
   ]
  },
  {
   "cell_type": "code",
   "execution_count": null,
   "id": "f97e3bf2",
   "metadata": {},
   "outputs": [],
   "source": [
    "#Number of problems with three input-output fuzzy tests\n",
    "len(input_output_dict)"
   ]
  },
  {
   "cell_type": "code",
   "execution_count": null,
   "id": "e7921ff7",
   "metadata": {},
   "outputs": [],
   "source": [
    "#Given that CodeNet works through stdin. We need to make sure there is a newline so the data in stdin gets passed to the function's reader\n",
    "def add_newline_if_missing(s):\n",
    "    if not s.endswith('\\n'):\n",
    "        s += '\\n'\n",
    "    return s"
   ]
  },
  {
   "cell_type": "code",
   "execution_count": null,
   "id": "be1f0fed",
   "metadata": {},
   "outputs": [],
   "source": [
    "entries = []\n",
    "\n",
    "for problemid, inputoutput in input_output_dict.items():    \n",
    "    #We read the metadata for this problem\n",
    "    metadata_path = f'./datasets/Project_CodeNet/metadata/{problemid}.csv'\n",
    "    df = pd.read_csv(metadata_path)\n",
    "    df = df[(df.status == 'Accepted')]\n",
    "    skipit = False\n",
    "    local_entries = []\n",
    "    \n",
    "    if df.empty == True:\n",
    "        continue\n",
    "    \n",
    "    for lang in languages_codenet:\n",
    "        obj = {}\n",
    "\n",
    "        obj['problem'] = problemid\n",
    "        obj['stdin_input_1'] = add_newline_if_missing(inputoutput[0])\n",
    "        obj['expected_output_1'] = inputoutput[1]\n",
    "        obj['stdin_input_2'] = add_newline_if_missing(inputoutput[2])\n",
    "        obj['expected_output_2'] = inputoutput[3]\n",
    "        obj['stdin_input_3'] = add_newline_if_missing(inputoutput[4])\n",
    "        obj['expected_output_3'] = inputoutput[5]\n",
    "        dflang = df[(df.language == lang)]\n",
    "        \n",
    "        #We keep programs that are less than 1kb (as a proxy to token length. This is to ensure we don't have problems with context length)\n",
    "        dflang = dflang[(dflang.code_size < 1024)]\n",
    "        \n",
    "        if dflang.empty:\n",
    "            #No parallel data in this language. Moving on to the next problem\n",
    "            skipit = True\n",
    "            break\n",
    "        \n",
    "        #Sample one random solutions to this problem, from all the solutions\n",
    "        row = dflang.sample(n=1, random_state=1).iloc[0]\n",
    "        submission_id = row['submission_id']\n",
    "        obj['size_bytes'] = row['code_size']\n",
    "        \n",
    "        #Get the content from the submission\n",
    "        with open(f'./datasets/Project_CodeNet/data/{problemid}/{lang}/{submission_id}.{extension_map[lang]}') as f:\n",
    "            content = f.read()\n",
    "            obj['language'] = lang\n",
    "            obj['code'] = content\n",
    "        \n",
    "        local_entries.append(obj)\n",
    "        \n",
    "    if not skipit:\n",
    "        entries.extend(local_entries)"
   ]
  },
  {
   "cell_type": "code",
   "execution_count": null,
   "id": "9068d5ce",
   "metadata": {},
   "outputs": [],
   "source": [
    "codenet_subset = pd.DataFrame(entries)"
   ]
  },
  {
   "cell_type": "code",
   "execution_count": null,
   "id": "622cdc3b",
   "metadata": {},
   "outputs": [],
   "source": [
    "codenet_subset.shape"
   ]
  },
  {
   "cell_type": "code",
   "execution_count": null,
   "id": "b66e667d",
   "metadata": {},
   "outputs": [],
   "source": [
    "codenet_subset.head()"
   ]
  },
  {
   "cell_type": "code",
   "execution_count": null,
   "id": "d63770d4",
   "metadata": {},
   "outputs": [],
   "source": [
    "codenet_translation_pairs = []\n",
    "\n",
    "#Build the possible translation pairs using all the problems found previously\n",
    "for problem, group in codenet_subset.groupby('problem'):\n",
    "    \n",
    "    for source in languages_codenet:\n",
    "        for target in languages_codenet:\n",
    "            obj = {}\n",
    "            obj['task_id'] = problem\n",
    "            \n",
    "            if source != target:\n",
    "                obj['source_lang'] = source\n",
    "                mask = group['language'].str.lower() == source.lower()\n",
    "                input_row = group[mask].iloc[0]\n",
    "                obj['input_code'] = input_row['code']\n",
    "                obj['target_lang'] = target\n",
    "                mask = group['language'].str.lower() == target.lower()\n",
    "                target_row = group[mask].iloc[0]\n",
    "                obj['ground_truth'] = target_row['code']\n",
    "                \n",
    "                obj['stdin_input_1'] = input_row['stdin_input_1']\n",
    "                obj['expected_output_1'] = input_row['expected_output_1']\n",
    "                obj['stdin_input_2'] = input_row['stdin_input_2']\n",
    "                obj['expected_output_2'] = input_row['expected_output_2']\n",
    "                obj['stdin_input_3'] = input_row['stdin_input_3']\n",
    "                obj['expected_output_3'] = input_row['expected_output_3']\n",
    "                \n",
    "                #Sanity check for alignment\n",
    "                assert target_row['expected_output_1'] == input_row['expected_output_1']\n",
    "                assert target_row['expected_output_2'] == input_row['expected_output_2']\n",
    "                assert target_row['expected_output_3'] == input_row['expected_output_3']\n",
    "                      \n",
    "                codenet_translation_pairs.append(obj)\n",
    "                \n",
    "codenet_translation_df = pd.DataFrame(codenet_translation_pairs)"
   ]
  },
  {
   "cell_type": "code",
   "execution_count": null,
   "id": "3c657d46",
   "metadata": {},
   "outputs": [],
   "source": [
    "codenet_translation_df.shape"
   ]
  },
  {
   "cell_type": "markdown",
   "id": "851b0388",
   "metadata": {},
   "source": [
    "#### We need at least 1013 samples from 15660 translation pairs for 99.9% CI"
   ]
  },
  {
   "cell_type": "code",
   "execution_count": null,
   "id": "945b6d17",
   "metadata": {},
   "outputs": [],
   "source": [
    "codenet_stratified = codenet_translation_df.groupby(['source_lang', 'target_lang'])\n",
    "\n",
    "codenet_dfs = []\n",
    "\n",
    "for name, group in codenet_stratified:\n",
    "    codenet_dfs.append(group.sample(n=35, random_state=1))\n",
    "    \n",
    "codenet_pairs_subset = pd.concat(codenet_dfs).reset_index(drop=True)"
   ]
  },
  {
   "cell_type": "code",
   "execution_count": null,
   "id": "4afb9e9a",
   "metadata": {},
   "outputs": [],
   "source": [
    "codenet_pairs_subset.shape"
   ]
  },
  {
   "cell_type": "code",
   "execution_count": null,
   "id": "27dc545f",
   "metadata": {},
   "outputs": [],
   "source": [
    "codenet_pairs_subset.head()"
   ]
  },
  {
   "cell_type": "code",
   "execution_count": null,
   "id": "14b59582",
   "metadata": {},
   "outputs": [],
   "source": [
    "codenet_translation_df.to_json('./datasets/codenet_pairs_all.jsonl', orient='records', lines=True)"
   ]
  },
  {
   "cell_type": "code",
   "execution_count": null,
   "id": "2b3950ae",
   "metadata": {},
   "outputs": [],
   "source": [
    "codenet_pairs_subset.to_json('./datasets/codenet_pairs_subset.jsonl', orient='records', lines=True)"
   ]
  },
  {
   "cell_type": "markdown",
   "id": "6b862145",
   "metadata": {},
   "source": [
    "## TransCoder Test Set (curated)"
   ]
  },
  {
   "cell_type": "code",
   "execution_count": 5,
   "id": "a3d1238a",
   "metadata": {},
   "outputs": [],
   "source": [
    "unitrans_df = pd.read_json('./datasets/FSE-24-UniTrans/cleaned_data/testable_samples.jsonl', orient='records', lines=True)"
   ]
  },
  {
   "cell_type": "code",
   "execution_count": 6,
   "id": "8307f5fe",
   "metadata": {},
   "outputs": [
    {
     "data": {
      "text/html": [
       "<div>\n",
       "<style scoped>\n",
       "    .dataframe tbody tr th:only-of-type {\n",
       "        vertical-align: middle;\n",
       "    }\n",
       "\n",
       "    .dataframe tbody tr th {\n",
       "        vertical-align: top;\n",
       "    }\n",
       "\n",
       "    .dataframe thead th {\n",
       "        text-align: right;\n",
       "    }\n",
       "</style>\n",
       "<table border=\"1\" class=\"dataframe\">\n",
       "  <thead>\n",
       "    <tr style=\"text-align: right;\">\n",
       "      <th></th>\n",
       "      <th>id</th>\n",
       "      <th>cpp</th>\n",
       "      <th>java</th>\n",
       "      <th>python</th>\n",
       "    </tr>\n",
       "  </thead>\n",
       "  <tbody>\n",
       "    <tr>\n",
       "      <th>0</th>\n",
       "      <td>ADD_1_TO_A_GIVEN_NUMBER</td>\n",
       "      <td>int addOne ( int x ) {\\n  int m = 1;\\n  while ...</td>\n",
       "      <td>static int addOne ( int x ) {\\n  int m = 1 ;\\n...</td>\n",
       "      <td>def addOne ( x ) :\\n    m = 1\\n    while ( x &amp;...</td>\n",
       "    </tr>\n",
       "    <tr>\n",
       "      <th>1</th>\n",
       "      <td>ADD_1_TO_A_GIVEN_NUMBER_1</td>\n",
       "      <td>int addOne ( int x ) {\\n  return ( - ( ~ x ) )...</td>\n",
       "      <td>static int addOne ( int x ) {\\n  return ( - ( ...</td>\n",
       "      <td>def addOne ( x ) :\\n    return ( - ( ~ x ) )</td>\n",
       "    </tr>\n",
       "    <tr>\n",
       "      <th>2</th>\n",
       "      <td>ANALYSIS_OF_ALGORITHMS_SET_2_ASYMPTOTIC_ANALYSIS</td>\n",
       "      <td>int search ( int arr [ ], int n, int x ) {\\n  ...</td>\n",
       "      <td>static int search ( int arr [ ] , int n , int ...</td>\n",
       "      <td>def search ( arr , n , x ) :\\n    i = 0\\n    f...</td>\n",
       "    </tr>\n",
       "    <tr>\n",
       "      <th>3</th>\n",
       "      <td>AREA_OF_THE_CIRCLE_THAT_HAS_A_SQUARE_AND_A_CIR...</td>\n",
       "      <td>float getArea ( int a ) {\\n  float area = ( M_...</td>\n",
       "      <td>static float getArea ( int a ) {\\n  float area...</td>\n",
       "      <td>def getArea ( a ) :\\n    area = ( math.pi * a ...</td>\n",
       "    </tr>\n",
       "    <tr>\n",
       "      <th>4</th>\n",
       "      <td>AREA_SQUARE_CIRCUMSCRIBED_CIRCLE</td>\n",
       "      <td>int find_Area ( int r ) {\\n  return ( 2 * r * ...</td>\n",
       "      <td>static int find_Area ( int r ) {\\n  return ( 2...</td>\n",
       "      <td>def find_Area ( r ) :\\n    return ( 2 * r * r )</td>\n",
       "    </tr>\n",
       "  </tbody>\n",
       "</table>\n",
       "</div>"
      ],
      "text/plain": [
       "                                                  id  \\\n",
       "0                            ADD_1_TO_A_GIVEN_NUMBER   \n",
       "1                          ADD_1_TO_A_GIVEN_NUMBER_1   \n",
       "2   ANALYSIS_OF_ALGORITHMS_SET_2_ASYMPTOTIC_ANALYSIS   \n",
       "3  AREA_OF_THE_CIRCLE_THAT_HAS_A_SQUARE_AND_A_CIR...   \n",
       "4                   AREA_SQUARE_CIRCUMSCRIBED_CIRCLE   \n",
       "\n",
       "                                                 cpp  \\\n",
       "0  int addOne ( int x ) {\\n  int m = 1;\\n  while ...   \n",
       "1  int addOne ( int x ) {\\n  return ( - ( ~ x ) )...   \n",
       "2  int search ( int arr [ ], int n, int x ) {\\n  ...   \n",
       "3  float getArea ( int a ) {\\n  float area = ( M_...   \n",
       "4  int find_Area ( int r ) {\\n  return ( 2 * r * ...   \n",
       "\n",
       "                                                java  \\\n",
       "0  static int addOne ( int x ) {\\n  int m = 1 ;\\n...   \n",
       "1  static int addOne ( int x ) {\\n  return ( - ( ...   \n",
       "2  static int search ( int arr [ ] , int n , int ...   \n",
       "3  static float getArea ( int a ) {\\n  float area...   \n",
       "4  static int find_Area ( int r ) {\\n  return ( 2...   \n",
       "\n",
       "                                              python  \n",
       "0  def addOne ( x ) :\\n    m = 1\\n    while ( x &...  \n",
       "1       def addOne ( x ) :\\n    return ( - ( ~ x ) )  \n",
       "2  def search ( arr , n , x ) :\\n    i = 0\\n    f...  \n",
       "3  def getArea ( a ) :\\n    area = ( math.pi * a ...  \n",
       "4    def find_Area ( r ) :\\n    return ( 2 * r * r )  "
      ]
     },
     "execution_count": 6,
     "metadata": {},
     "output_type": "execute_result"
    }
   ],
   "source": [
    "unitrans_df.head()"
   ]
  },
  {
   "cell_type": "code",
   "execution_count": 21,
   "id": "441de79b",
   "metadata": {},
   "outputs": [
    {
     "data": {
      "text/plain": [
       "(568, 4)"
      ]
     },
     "execution_count": 21,
     "metadata": {},
     "output_type": "execute_result"
    }
   ],
   "source": [
    "unitrans_df.shape"
   ]
  },
  {
   "cell_type": "code",
   "execution_count": 7,
   "id": "af7d979c",
   "metadata": {},
   "outputs": [],
   "source": [
    "df_melted = pd.melt(unitrans_df, id_vars=['id'], var_name='language', value_name='value')"
   ]
  },
  {
   "cell_type": "code",
   "execution_count": 8,
   "id": "387ca391",
   "metadata": {},
   "outputs": [
    {
     "data": {
      "text/html": [
       "<div>\n",
       "<style scoped>\n",
       "    .dataframe tbody tr th:only-of-type {\n",
       "        vertical-align: middle;\n",
       "    }\n",
       "\n",
       "    .dataframe tbody tr th {\n",
       "        vertical-align: top;\n",
       "    }\n",
       "\n",
       "    .dataframe thead th {\n",
       "        text-align: right;\n",
       "    }\n",
       "</style>\n",
       "<table border=\"1\" class=\"dataframe\">\n",
       "  <thead>\n",
       "    <tr style=\"text-align: right;\">\n",
       "      <th></th>\n",
       "      <th>id</th>\n",
       "      <th>language</th>\n",
       "      <th>value</th>\n",
       "    </tr>\n",
       "  </thead>\n",
       "  <tbody>\n",
       "    <tr>\n",
       "      <th>0</th>\n",
       "      <td>ADD_1_TO_A_GIVEN_NUMBER</td>\n",
       "      <td>cpp</td>\n",
       "      <td>int addOne ( int x ) {\\n  int m = 1;\\n  while ...</td>\n",
       "    </tr>\n",
       "    <tr>\n",
       "      <th>1</th>\n",
       "      <td>ADD_1_TO_A_GIVEN_NUMBER_1</td>\n",
       "      <td>cpp</td>\n",
       "      <td>int addOne ( int x ) {\\n  return ( - ( ~ x ) )...</td>\n",
       "    </tr>\n",
       "    <tr>\n",
       "      <th>2</th>\n",
       "      <td>ANALYSIS_OF_ALGORITHMS_SET_2_ASYMPTOTIC_ANALYSIS</td>\n",
       "      <td>cpp</td>\n",
       "      <td>int search ( int arr [ ], int n, int x ) {\\n  ...</td>\n",
       "    </tr>\n",
       "    <tr>\n",
       "      <th>3</th>\n",
       "      <td>AREA_OF_THE_CIRCLE_THAT_HAS_A_SQUARE_AND_A_CIR...</td>\n",
       "      <td>cpp</td>\n",
       "      <td>float getArea ( int a ) {\\n  float area = ( M_...</td>\n",
       "    </tr>\n",
       "    <tr>\n",
       "      <th>4</th>\n",
       "      <td>AREA_SQUARE_CIRCUMSCRIBED_CIRCLE</td>\n",
       "      <td>cpp</td>\n",
       "      <td>int find_Area ( int r ) {\\n  return ( 2 * r * ...</td>\n",
       "    </tr>\n",
       "  </tbody>\n",
       "</table>\n",
       "</div>"
      ],
      "text/plain": [
       "                                                  id language  \\\n",
       "0                            ADD_1_TO_A_GIVEN_NUMBER      cpp   \n",
       "1                          ADD_1_TO_A_GIVEN_NUMBER_1      cpp   \n",
       "2   ANALYSIS_OF_ALGORITHMS_SET_2_ASYMPTOTIC_ANALYSIS      cpp   \n",
       "3  AREA_OF_THE_CIRCLE_THAT_HAS_A_SQUARE_AND_A_CIR...      cpp   \n",
       "4                   AREA_SQUARE_CIRCUMSCRIBED_CIRCLE      cpp   \n",
       "\n",
       "                                               value  \n",
       "0  int addOne ( int x ) {\\n  int m = 1;\\n  while ...  \n",
       "1  int addOne ( int x ) {\\n  return ( - ( ~ x ) )...  \n",
       "2  int search ( int arr [ ], int n, int x ) {\\n  ...  \n",
       "3  float getArea ( int a ) {\\n  float area = ( M_...  \n",
       "4  int find_Area ( int r ) {\\n  return ( 2 * r * ...  "
      ]
     },
     "execution_count": 8,
     "metadata": {},
     "output_type": "execute_result"
    }
   ],
   "source": [
    "df_melted.head()"
   ]
  },
  {
   "cell_type": "code",
   "execution_count": 9,
   "id": "d3c13cb6",
   "metadata": {},
   "outputs": [
    {
     "data": {
      "text/plain": [
       "568"
      ]
     },
     "execution_count": 9,
     "metadata": {},
     "output_type": "execute_result"
    }
   ],
   "source": [
    "df_melted[\"id\"].nunique()"
   ]
  },
  {
   "cell_type": "code",
   "execution_count": 10,
   "id": "01fc0b91",
   "metadata": {},
   "outputs": [],
   "source": [
    "import os\n",
    "import random\n",
    "\n",
    "translation_pairs = []\n",
    "languages = [\"python\", \"java\", \"cpp\"]\n",
    "\n",
    "map_unitrans = {\n",
    "    \"python\" : \"Python\",\n",
    "    \"java\" : \"Java\",\n",
    "    \"cpp\" : \"C++\"\n",
    "}\n",
    "\n",
    "# Set the seed for reproducibility\n",
    "seed = 1\n",
    "random.seed(seed)\n",
    "\n",
    "results = []\n",
    "\n",
    "for name, group in df_melted.groupby(\"id\"):\n",
    "    group_entries = []\n",
    "    python_found = False\n",
    "    cpp_found = False\n",
    "    java_found = False\n",
    "\n",
    "\n",
    "    for index, row in group.iterrows():\n",
    "        problem = row['id']\n",
    "        cpp_path = f\"./datasets/FSE-24-UniTrans/cleaned_data/transcoder_evaluation_gfg/cpp/{problem}.cpp\"\n",
    "        java_path = f\"./datasets/FSE-24-UniTrans/cleaned_data/transcoder_evaluation_gfg/java/{problem}.java\"\n",
    "        python_path = f\"./datasets/FSE-24-UniTrans/cleaned_data/transcoder_evaluation_gfg/python/{problem}.py\"\n",
    "\n",
    "        obj = {}\n",
    "\n",
    "        source = row['language']\n",
    "        \n",
    "        for target in languages:\n",
    "            obj = {}\n",
    "            obj['id'] = problem\n",
    "            \n",
    "            if source != target:\n",
    "\n",
    "                try:\n",
    "                    if target == \"cpp\":\n",
    "                        with open(cpp_path, \"r\") as f:\n",
    "                            obj[\"test_code\"] = f.read()\n",
    "                    if target == \"java\":\n",
    "                        with open(java_path, \"r\") as f:\n",
    "                            obj[\"test_code\"] = f.read()\n",
    "                    if target == \"python\":\n",
    "                        with open(python_path, \"r\") as f:\n",
    "                            obj[\"test_code\"] = f.read()\n",
    "\n",
    "                    obj[\"source_lang\"] = map_unitrans[source]\n",
    "                    obj['input_code'] = row['value']\n",
    "                    obj['target_lang'] = map_unitrans[target]\n",
    "                    mask = group['language'].str.lower() == target.lower()\n",
    "                    target_row = group[mask].iloc[0]\n",
    "                    obj['ground_truth'] = target_row['value']\n",
    "                    obj['target_signature'] = \"f_filled\"\n",
    "\n",
    "                    translation_pairs.append(obj)\n",
    "\n",
    "                except Exception as e:\n",
    "                    #Parallel data is missing for this problem. This is expected\n",
    "                    continue"
   ]
  },
  {
   "cell_type": "code",
   "execution_count": 11,
   "id": "18f901af",
   "metadata": {},
   "outputs": [],
   "source": [
    "translation_df = pd.DataFrame(translation_pairs)"
   ]
  },
  {
   "cell_type": "code",
   "execution_count": 17,
   "id": "3dca9bfc",
   "metadata": {},
   "outputs": [
    {
     "data": {
      "text/plain": [
       "(2826, 7)"
      ]
     },
     "execution_count": 17,
     "metadata": {},
     "output_type": "execute_result"
    }
   ],
   "source": [
    "translation_df.shape"
   ]
  },
  {
   "cell_type": "code",
   "execution_count": 18,
   "id": "bce68c5c",
   "metadata": {},
   "outputs": [
    {
     "data": {
      "text/plain": [
       "568"
      ]
     },
     "execution_count": 18,
     "metadata": {},
     "output_type": "execute_result"
    }
   ],
   "source": [
    "len(translation_df.groupby(\"id\"))"
   ]
  },
  {
   "cell_type": "code",
   "execution_count": 19,
   "id": "d94db1e3",
   "metadata": {},
   "outputs": [],
   "source": [
    "stratified = translation_df.groupby(['source_lang', 'target_lang'])\n",
    "\n",
    "dfs = []\n",
    "\n",
    "for name, group in stratified:\n",
    "    dfs.append(group.sample(n=175, random_state=1))\n",
    "    \n",
    "unitrans_pairs_subset = pd.concat(dfs)"
   ]
  },
  {
   "cell_type": "code",
   "execution_count": 20,
   "id": "26e02ce4",
   "metadata": {},
   "outputs": [
    {
     "data": {
      "text/html": [
       "<div>\n",
       "<style scoped>\n",
       "    .dataframe tbody tr th:only-of-type {\n",
       "        vertical-align: middle;\n",
       "    }\n",
       "\n",
       "    .dataframe tbody tr th {\n",
       "        vertical-align: top;\n",
       "    }\n",
       "\n",
       "    .dataframe thead th {\n",
       "        text-align: right;\n",
       "    }\n",
       "</style>\n",
       "<table border=\"1\" class=\"dataframe\">\n",
       "  <thead>\n",
       "    <tr style=\"text-align: right;\">\n",
       "      <th></th>\n",
       "      <th>id</th>\n",
       "      <th>test_code</th>\n",
       "      <th>source_lang</th>\n",
       "      <th>input_code</th>\n",
       "      <th>target_lang</th>\n",
       "      <th>ground_truth</th>\n",
       "      <th>target_signature</th>\n",
       "    </tr>\n",
       "  </thead>\n",
       "  <tbody>\n",
       "    <tr>\n",
       "      <th>186</th>\n",
       "      <td>CHECK_LARGE_NUMBER_DIVISIBLE_11_NOT</td>\n",
       "      <td>// Copyright (c) 2019-present, Facebook, Inc.\\...</td>\n",
       "      <td>C++</td>\n",
       "      <td>int check ( string str ) {\\n  int n = str . le...</td>\n",
       "      <td>Java</td>\n",
       "      <td>static boolean check ( String str ) {\\n  int n...</td>\n",
       "      <td>f_filled</td>\n",
       "    </tr>\n",
       "    <tr>\n",
       "      <th>1457</th>\n",
       "      <td>LONGEST_REPEATING_SUBSEQUENCE</td>\n",
       "      <td>// Copyright (c) 2019-present, Facebook, Inc.\\...</td>\n",
       "      <td>C++</td>\n",
       "      <td>int findLongestRepeatingSubSeq ( string str ) ...</td>\n",
       "      <td>Java</td>\n",
       "      <td>static int findLongestRepeatingSubSeq ( String...</td>\n",
       "      <td>f_filled</td>\n",
       "    </tr>\n",
       "    <tr>\n",
       "      <th>1087</th>\n",
       "      <td>FIND_SUM_UNIQUE_SUB_ARRAY_SUM_GIVEN_ARRAY</td>\n",
       "      <td>// Copyright (c) 2019-present, Facebook, Inc.\\...</td>\n",
       "      <td>C++</td>\n",
       "      <td>long long int findSubarraySum ( int arr [ ], i...</td>\n",
       "      <td>Java</td>\n",
       "      <td>static int findSubarraySum ( int [ ] arr , int...</td>\n",
       "      <td>f_filled</td>\n",
       "    </tr>\n",
       "    <tr>\n",
       "      <th>631</th>\n",
       "      <td>C_PROGRAM_FACTORIAL_NUMBER</td>\n",
       "      <td>// Copyright (c) 2019-present, Facebook, Inc.\\...</td>\n",
       "      <td>C++</td>\n",
       "      <td>unsigned int factorial ( unsigned int n ) {\\n ...</td>\n",
       "      <td>Java</td>\n",
       "      <td>static int factorial ( int n ) {\\n  if ( n == ...</td>\n",
       "      <td>f_filled</td>\n",
       "    </tr>\n",
       "    <tr>\n",
       "      <th>515</th>\n",
       "      <td>COUNT_PALINDROMIC_SUBSEQUENCE_GIVEN_STRING</td>\n",
       "      <td>// Copyright (c) 2019-present, Facebook, Inc.\\...</td>\n",
       "      <td>C++</td>\n",
       "      <td>int countPS(string str)\\n{\\n  int N = str.leng...</td>\n",
       "      <td>Java</td>\n",
       "      <td>static int countPS ( String str ) {\\n  int N =...</td>\n",
       "      <td>f_filled</td>\n",
       "    </tr>\n",
       "  </tbody>\n",
       "</table>\n",
       "</div>"
      ],
      "text/plain": [
       "                                              id  \\\n",
       "186          CHECK_LARGE_NUMBER_DIVISIBLE_11_NOT   \n",
       "1457               LONGEST_REPEATING_SUBSEQUENCE   \n",
       "1087   FIND_SUM_UNIQUE_SUB_ARRAY_SUM_GIVEN_ARRAY   \n",
       "631                   C_PROGRAM_FACTORIAL_NUMBER   \n",
       "515   COUNT_PALINDROMIC_SUBSEQUENCE_GIVEN_STRING   \n",
       "\n",
       "                                              test_code source_lang  \\\n",
       "186   // Copyright (c) 2019-present, Facebook, Inc.\\...         C++   \n",
       "1457  // Copyright (c) 2019-present, Facebook, Inc.\\...         C++   \n",
       "1087  // Copyright (c) 2019-present, Facebook, Inc.\\...         C++   \n",
       "631   // Copyright (c) 2019-present, Facebook, Inc.\\...         C++   \n",
       "515   // Copyright (c) 2019-present, Facebook, Inc.\\...         C++   \n",
       "\n",
       "                                             input_code target_lang  \\\n",
       "186   int check ( string str ) {\\n  int n = str . le...        Java   \n",
       "1457  int findLongestRepeatingSubSeq ( string str ) ...        Java   \n",
       "1087  long long int findSubarraySum ( int arr [ ], i...        Java   \n",
       "631   unsigned int factorial ( unsigned int n ) {\\n ...        Java   \n",
       "515   int countPS(string str)\\n{\\n  int N = str.leng...        Java   \n",
       "\n",
       "                                           ground_truth target_signature  \n",
       "186   static boolean check ( String str ) {\\n  int n...         f_filled  \n",
       "1457  static int findLongestRepeatingSubSeq ( String...         f_filled  \n",
       "1087  static int findSubarraySum ( int [ ] arr , int...         f_filled  \n",
       "631   static int factorial ( int n ) {\\n  if ( n == ...         f_filled  \n",
       "515   static int countPS ( String str ) {\\n  int N =...         f_filled  "
      ]
     },
     "execution_count": 20,
     "metadata": {},
     "output_type": "execute_result"
    }
   ],
   "source": [
    "unitrans_pairs_subset.head()"
   ]
  },
  {
   "cell_type": "code",
   "execution_count": null,
   "id": "ea2f1e05",
   "metadata": {},
   "outputs": [],
   "source": [
    "unitrans_pairs_subset.shape"
   ]
  },
  {
   "cell_type": "code",
   "execution_count": null,
   "id": "77e7a70c",
   "metadata": {},
   "outputs": [],
   "source": [
    "unitrans_pairs_subset.to_json('./datasets/unitrans_dataset_subset.jsonl', orient='records', lines=True)\n",
    "translation_df.to_json('./datasets/unitrans_dataset_all.jsonl', orient='records', lines=True)"
   ]
  }
 ],
 "metadata": {
  "kernelspec": {
   "display_name": "Python 3",
   "language": "python",
   "name": "python3"
  },
  "language_info": {
   "codemirror_mode": {
    "name": "ipython",
    "version": 3
   },
   "file_extension": ".py",
   "mimetype": "text/x-python",
   "name": "python",
   "nbconvert_exporter": "python",
   "pygments_lexer": "ipython3",
   "version": "3.9.19"
  }
 },
 "nbformat": 4,
 "nbformat_minor": 5
}

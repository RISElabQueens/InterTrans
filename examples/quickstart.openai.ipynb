{
 "cells": [
  {
   "cell_type": "code",
   "execution_count": 1,
   "metadata": {},
   "outputs": [],
   "source": [
    "import intertrans.protos_pb2 as ptpb\n",
    "from intertrans.utils import submit_request\n",
    "from intertrans.data import get_translation"
   ]
  },
  {
   "cell_type": "code",
   "execution_count": 2,
   "metadata": {},
   "outputs": [],
   "source": [
    "input_code = \"\"\"\n",
    "#include <bits/stdc++.h>\n",
    "using namespace std;\n",
    "\n",
    "\n",
    "int main (){\n",
    "    int L;\n",
    "    cin>>L;\n",
    "    if(L<1200){\n",
    "        cout<<\"ABC\"<<endl;\n",
    "    }\n",
    "    else if(L<2800){\n",
    "        cout<<\"ARC\"<<endl;\n",
    "    }\n",
    "    else{\n",
    "        cout<<\"AGC\"<<endl;\n",
    "    }\n",
    "\n",
    "}\n",
    "\"\"\""
   ]
  },
  {
   "cell_type": "code",
   "execution_count": 3,
   "metadata": {},
   "outputs": [],
   "source": [
    "batch_request = ptpb.BatchTranslationRequest()\n",
    "\n",
    "request = ptpb.TranslationRequest()\n",
    "request.id = \"1\" # Unique identifier for the request\n",
    "request.seed_language = \"C++\"\n",
    "request.target_language = \"Python\"\n",
    "request.seed_code = input_code\n",
    "request.model_name = \"gpt-4o-mini-2024-07-18\"\n",
    "request.prompt_template_name = \"prompt_codenet\"\n",
    "request.regex_template_name = \"temperature\""
   ]
  },
  {
   "cell_type": "code",
   "execution_count": 4,
   "metadata": {},
   "outputs": [],
   "source": [
    "request.used_languages.append(\"Go\")\n",
    "request.used_languages.append(\"Java\")\n",
    "request.used_languages.append(\"Python\")\n",
    "request.used_languages.append(\"C++\")\n",
    "request.used_languages.append(\"JavaScript\")\n",
    "request.used_languages.append(\"Rust\")"
   ]
  },
  {
   "cell_type": "code",
   "execution_count": null,
   "metadata": {},
   "outputs": [],
   "source": [
    "fuzzytest1 = ptpb.FuzzyTestCase()\n",
    "fuzzytest1.stdin_input = \"1199\"\n",
    "fuzzytest1.expected_output = \"ABC\"\n",
    "\n",
    "fuzzytest2 = ptpb.FuzzyTestCase()\n",
    "fuzzytest2.stdin_input = \"1200\"\n",
    "fuzzytest2.expected_output = \"ARC\"\n",
    "\n",
    "fuzzytest3 = ptpb.FuzzyTestCase()\n",
    "fuzzytest3.stdin_input = \"4208\"\n",
    "fuzzytest3.expected_output = \"AGC\"\n",
    "\n",
    "request.test_suite.fuzzy_suite.append(fuzzytest1)\n",
    "request.test_suite.fuzzy_suite.append(fuzzytest2)\n",
    "request.test_suite.fuzzy_suite.append(fuzzytest3)\n",
    "\n",
    "batch_request.translation_requests.append(request)"
   ]
  },
  {
   "cell_type": "code",
   "execution_count": 6,
   "metadata": {},
   "outputs": [],
   "source": [
    "request_results = submit_request(batch_request, \"localhost:50051\")"
   ]
  },
  {
   "cell_type": "code",
   "execution_count": null,
   "metadata": {},
   "outputs": [],
   "source": [
    "request_results"
   ]
  },
  {
   "cell_type": "code",
   "execution_count": 8,
   "metadata": {},
   "outputs": [],
   "source": [
    "translation_result = request_results.translation_responses[0]"
   ]
  },
  {
   "cell_type": "code",
   "execution_count": 9,
   "metadata": {},
   "outputs": [],
   "source": [
    "python_translation = get_translation(translation_result)"
   ]
  },
  {
   "cell_type": "code",
   "execution_count": null,
   "metadata": {},
   "outputs": [],
   "source": [
    "print(python_translation)"
   ]
  }
 ],
 "metadata": {
  "kernelspec": {
   "display_name": "Python 3",
   "language": "python",
   "name": "python3"
  },
  "language_info": {
   "codemirror_mode": {
    "name": "ipython",
    "version": 3
   },
   "file_extension": ".py",
   "mimetype": "text/x-python",
   "name": "python",
   "nbconvert_exporter": "python",
   "pygments_lexer": "ipython3",
   "version": "3.9.19"
  }
 },
 "nbformat": 4,
 "nbformat_minor": 2
}

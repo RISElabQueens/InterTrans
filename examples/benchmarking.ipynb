{
 "cells": [
  {
   "cell_type": "code",
   "execution_count": 1,
   "metadata": {},
   "outputs": [],
   "source": [
    "import pandas as pd\n",
    "import intertrans.protos_pb2 as ptpb\n",
    "from intertrans.utils import submit_request_cak\n",
    "from intertrans.data import response_to_pandas, get_ca_metric"
   ]
  },
  {
   "cell_type": "code",
   "execution_count": 2,
   "metadata": {},
   "outputs": [],
   "source": [
    "df = pd.read_json('../data/datasets/humanevalx_dataset_subset.jsonl', lines=True)"
   ]
  },
  {
   "cell_type": "code",
   "execution_count": 3,
   "metadata": {},
   "outputs": [],
   "source": [
    "df_java_python = df[(df['source_lang'] == 'Java') & (df['target_lang'] == 'Python')].reset_index(drop=True)"
   ]
  },
  {
   "cell_type": "code",
   "execution_count": null,
   "metadata": {},
   "outputs": [],
   "source": [
    "df_java_python.head()"
   ]
  },
  {
   "cell_type": "code",
   "execution_count": 5,
   "metadata": {},
   "outputs": [],
   "source": [
    "batch_request = ptpb.BatchTranslationRequest()\n",
    "\n",
    "for index, row in df_java_python.iterrows():\n",
    "    request = ptpb.TranslationRequest()\n",
    "\n",
    "    request.id = str(index)\n",
    "    request.seed_language = row['source_lang']\n",
    "    request.target_language = row['target_lang']\n",
    "    request.seed_code = row['input_code']\n",
    "    request.model_name = \"ise-uiuc/Magicoder-S-DS-6.7B\"\n",
    "    request.prompt_template_name = \"prompt_humanevalx\"\n",
    "    request.regex_template_name = \"temperature\"\n",
    "\n",
    "    request.used_languages.append(\"Go\")\n",
    "    request.used_languages.append(\"Java\")\n",
    "    request.used_languages.append(\"Python\")\n",
    "    request.used_languages.append(\"C++\")\n",
    "    request.used_languages.append(\"JavaScript\")\n",
    "    request.used_languages.append(\"Rust\")\n",
    "\n",
    "\n",
    "    #We attach the test cases to the request\n",
    "    unittest = ptpb.UnitTestCase()\n",
    "    unittest.language = row['target_lang']\n",
    "    unittest.test_case = row['test_code']\n",
    "    request.test_suite.unit_test_suite.append(unittest)\n",
    "\n",
    "    # Add signature\n",
    "    signature = ptpb.TargetSignature()\n",
    "    signature.language = row['target_lang']\n",
    "    signature.signature = row['target_signature']\n",
    "    request.target_signatures.append(signature)\n",
    "\n",
    "    batch_request.translation_requests.append(request)"
   ]
  },
  {
   "cell_type": "code",
   "execution_count": 6,
   "metadata": {},
   "outputs": [],
   "source": [
    "response = submit_request_cak(batch_request, \"localhost:50051\")"
   ]
  },
  {
   "cell_type": "code",
   "execution_count": 7,
   "metadata": {},
   "outputs": [],
   "source": [
    "df_response = response_to_pandas(response)"
   ]
  },
  {
   "cell_type": "code",
   "execution_count": 15,
   "metadata": {},
   "outputs": [],
   "source": [
    "total_requests = df_response.groupby('request_id')['status'].any().sum().item()\n",
    "total_translations_found = df_response[(df_response['status'] == 'TRANSLATION_FOUND')]\n",
    "total_found_at_least_one_translation = total_translations_found.groupby('request_id')['status'].any().sum().item()"
   ]
  },
  {
   "cell_type": "code",
   "execution_count": 16,
   "metadata": {},
   "outputs": [],
   "source": [
    "ca_metric = total_found_at_least_one_translation / total_requests * 100"
   ]
  },
  {
   "cell_type": "code",
   "execution_count": null,
   "metadata": {},
   "outputs": [],
   "source": [
    "print(f\"CA@10: {ca_metric}%\")"
   ]
  },
  {
   "cell_type": "code",
   "execution_count": null,
   "metadata": {},
   "outputs": [],
   "source": [
    "print(f\"CA@10: {get_ca_metric(df_response, 10)}%\")"
   ]
  }
 ],
 "metadata": {
  "kernelspec": {
   "display_name": "Python 3",
   "language": "python",
   "name": "python3"
  },
  "language_info": {
   "codemirror_mode": {
    "name": "ipython",
    "version": 3
   },
   "file_extension": ".py",
   "mimetype": "text/x-python",
   "name": "python",
   "nbconvert_exporter": "python",
   "pygments_lexer": "ipython3",
   "version": "3.9.19"
  }
 },
 "nbformat": 4,
 "nbformat_minor": 2
}
